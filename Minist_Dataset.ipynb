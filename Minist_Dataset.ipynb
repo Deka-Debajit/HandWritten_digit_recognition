{
  "cells": [
    {
      "cell_type": "markdown",
      "metadata": {
        "id": "view-in-github",
        "colab_type": "text"
      },
      "source": [
        "<a href=\"https://colab.research.google.com/github/Deka-Debajit/HandWritten_digit_recognition/blob/main/Minist_Dataset.ipynb\" target=\"_parent\"><img src=\"https://colab.research.google.com/assets/colab-badge.svg\" alt=\"Open In Colab\"/></a>"
      ]
    },
    {
      "cell_type": "code",
      "execution_count": null,
      "metadata": {
        "id": "J-1-cXGqxCH7"
      },
      "outputs": [],
      "source": [
        "import numpy as np\n",
        "import pandas as pd\n",
        "import matplotlib.pyplot as plt\n",
        "import tensorflow as tf\n",
        "from tensorflow import keras\n",
        "from tensorflow.keras import Sequential\n",
        "from tensorflow.keras.layers import Dense\n"
      ]
    },
    {
      "cell_type": "code",
      "source": [
        "from google.colab import drive\n",
        "drive.mount('/content/drive/')\n"
      ],
      "metadata": {
        "colab": {
          "base_uri": "https://localhost:8080/"
        },
        "id": "RmwPPbXVsCEj",
        "outputId": "d240e8a6-f95d-45a6-82c1-38f2952eded4"
      },
      "execution_count": null,
      "outputs": [
        {
          "output_type": "stream",
          "name": "stdout",
          "text": [
            "Mounted at /content/drive/\n"
          ]
        }
      ]
    },
    {
      "cell_type": "code",
      "source": [
        "%cd /content/drive/My Drive/Colab Notebooks/"
      ],
      "metadata": {
        "colab": {
          "base_uri": "https://localhost:8080/"
        },
        "id": "xP4IKlc7tMlc",
        "outputId": "d57bad65-4a9f-46c9-e1c2-1b6f1d3806d7"
      },
      "execution_count": null,
      "outputs": [
        {
          "output_type": "stream",
          "name": "stdout",
          "text": [
            "/content/drive/My Drive/Colab Notebooks\n"
          ]
        }
      ]
    },
    {
      "cell_type": "code",
      "execution_count": null,
      "metadata": {
        "id": "ZScT81abxN9U"
      },
      "outputs": [],
      "source": [
        "df=pd.read_csv('Minist_Train.csv')\n",
        "jk=pd.read_csv('Mnist_Test.csv')\n",
        "print(df)\n",
        "print(jk)"
      ]
    },
    {
      "cell_type": "code",
      "source": [
        "d=df['label']\n",
        "ytrain=d.to_numpy()\n",
        "print(ytrain)\n",
        "\n",
        "j=jk['label']\n",
        "ytest=j.to_numpy()\n",
        "print(ytest)\n",
        "\n"
      ],
      "metadata": {
        "id": "AyQ7GwBn0nTy"
      },
      "execution_count": null,
      "outputs": []
    },
    {
      "cell_type": "code",
      "execution_count": null,
      "metadata": {
        "id": "63-mbFMZLorP"
      },
      "outputs": [],
      "source": [
        "df1=df.drop('label',axis=1)\n",
        "xtrain=df1.to_numpy()\n",
        "print(xtrain)\n",
        "\n",
        "jk1=jk.drop('label',axis=1)\n",
        "xtest=jk1.to_numpy()\n",
        "print(xtest)"
      ]
    },
    {
      "cell_type": "code",
      "source": [
        "plt.imshow(xtrain[678].reshape(28,28))\n",
        "\n",
        "print(ytrain[678])\n",
        "\n",
        "#show_digit1=xtest[4]\n",
        "#show_digit_image1=show_digit1.reshape(28,28)\n",
        "#plt.imshow(show_digit_image1,cmap=\"gray\",interpolation=\"None\")\n",
        "#real_digit1=ytest[4]\n",
        "#print(real_digit1)"
      ],
      "metadata": {
        "id": "w0MZhfyctets"
      },
      "execution_count": null,
      "outputs": []
    },
    {
      "cell_type": "code",
      "source": [
        "xtrain=xtrain/255\n",
        "ytrain=ytrain/255\n",
        "#normanilasation setting the value within the range of 0 to 1"
      ],
      "metadata": {
        "id": "P5dD0CC6ZXUk"
      },
      "execution_count": null,
      "outputs": []
    },
    {
      "cell_type": "code",
      "source": [
        "model=Sequential()\n",
        "model.add(Dense(128,input_shape=(784,),activation='relu'))\n",
        "#model.add(Dense(500,activation='ReLU'))\n",
        "model.add(Dense(10,activation='softmax'))\n",
        "model.summary()\n"
      ],
      "metadata": {
        "id": "lISaoE61Mbvf"
      },
      "execution_count": null,
      "outputs": []
    },
    {
      "cell_type": "code",
      "source": [
        "model.compile(optimizer=\"SGD\",loss=\"sparse_categorical_crossentropy\",metrics=['accuracy'])\n",
        "model.fit(xtrain,ytrain,epochs=10,batch_size=32)"
      ],
      "metadata": {
        "id": "HpWCjtdlUElr"
      },
      "execution_count": null,
      "outputs": []
    },
    {
      "cell_type": "code",
      "source": [
        "predicted_prob=model.predict(xtest)\n",
        "predicted_level=predicted_prob.argmax(axis=1)\n",
        "print(predicted_level)\n",
        "print(ytest)"
      ],
      "metadata": {
        "colab": {
          "base_uri": "https://localhost:8080/"
        },
        "id": "6Jqz4BG7Z6if",
        "outputId": "4319808e-46cd-47ea-cd3b-d5faa377dac8"
      },
      "execution_count": null,
      "outputs": [
        {
          "output_type": "stream",
          "name": "stdout",
          "text": [
            "313/313 [==============================] - 1s 2ms/step\n",
            "[0 0 0 ... 0 0 0]\n",
            "[7 2 1 ... 4 5 6]\n"
          ]
        }
      ]
    },
    {
      "cell_type": "code",
      "source": [
        "score=0\n",
        "for a,b in zip(predicted_level,ytest):\n",
        "  if a==b:\n",
        "    score+=1\n",
        "print(\"Accuracy :\",(score/10000)*100)\n"
      ],
      "metadata": {
        "id": "aPpym67mWmfL",
        "colab": {
          "base_uri": "https://localhost:8080/"
        },
        "outputId": "dffa9a77-68e1-424a-ab3a-6f13ad4393c6"
      },
      "execution_count": null,
      "outputs": [
        {
          "output_type": "stream",
          "name": "stdout",
          "text": [
            "Accuracy : 9.8\n"
          ]
        }
      ]
    },
    {
      "cell_type": "code",
      "source": [
        "random_image=np.random.uniform(0,1,784)\n",
        "plt.imshow(random_image.reshape(28,28))"
      ],
      "metadata": {
        "colab": {
          "base_uri": "https://localhost:8080/",
          "height": 282
        },
        "id": "sdOKo9k-a5Lu",
        "outputId": "1f2ec0b0-f8b5-4a57-bf05-b8993823aaef"
      },
      "execution_count": null,
      "outputs": [
        {
          "output_type": "execute_result",
          "data": {
            "text/plain": [
              "<matplotlib.image.AxesImage at 0x7fb36be9ef10>"
            ]
          },
          "metadata": {},
          "execution_count": 13
        },
        {
          "output_type": "display_data",
          "data": {
            "text/plain": [
              "<Figure size 432x288 with 1 Axes>"
            ],
            "image/png": "[encoded data removed]"
          },
          "metadata": {
            "needs_background": "light"
          }
        }
      ]
    },
    {
      "cell_type": "code",
      "source": [
        "prob=model.predict(np.array([random_image]))\n",
        "print(prob)"
      ],
      "metadata": {
        "colab": {
          "base_uri": "https://localhost:8080/"
        },
        "id": "xNyzsVF6efk3",
        "outputId": "994a8cf3-bef6-46da-e3a5-8a3ac7356972"
      },
      "execution_count": null,
      "outputs": [
        {
          "output_type": "stream",
          "name": "stdout",
          "text": [
            "1/1 [==============================] - 0s 51ms/step\n",
            "[[1.0000000e+00 2.3375349e-10 1.3757552e-10 1.7878901e-10 2.0109373e-11\n",
            "  1.5569084e-10 5.1708871e-10 4.5854764e-11 5.6507232e-10 1.2633311e-10]]\n"
          ]
        }
      ]
    },
    {
      "cell_type": "code",
      "source": [
        "#functional API or sequential function\n",
        "#convolutionn NN which is faster then this\n",
        "#RNN     translate hindi to english\n",
        "#LSTNN   improve ment of RNN\n",
        "#Attention NN"
      ],
      "metadata": {
        "id": "3IYfoW97evJ3"
      },
      "execution_count": null,
      "outputs": []
    }
  ],
  "metadata": {
    "colab": {
      "provenance": [],
      "authorship_tag": "ABX9TyMQ2L11L1ETrk602qp7x0Cu",
      "include_colab_link": true
    },
    "kernelspec": {
      "display_name": "Python 3",
      "name": "python3"
    },
    "language_info": {
      "name": "python"
    }
  },
  "nbformat": 4,
  "nbformat_minor": 0
}